{
 "cells": [
  {
   "cell_type": "markdown",
   "id": "796c5779",
   "metadata": {},
   "source": [
    "### 🔹 File: `task1_arrays.py`"
   ]
  },
  {
   "cell_type": "code",
   "execution_count": 3,
   "id": "732d951f",
   "metadata": {},
   "outputs": [
    {
     "name": "stdout",
     "output_type": "stream",
     "text": [
      "Array 1: (10,) 10 int32\n",
      "Array 2: (3, 3) 9 int32\n",
      "Array 3: (3, 5, 3) 45 float64\n"
     ]
    }
   ],
   "source": [
    "import numpy as np\n",
    "\n",
    "# 1D array\n",
    "arr1 = np.arange(1, 11)\n",
    "\n",
    "# 2D array\n",
    "arr2 = np.arange(1, 10).reshape(3, 3)\n",
    "\n",
    "# 3D array\n",
    "arr3 = np.random.rand(3, 5, 3)\n",
    "\n",
    "# Shape, size, dtype\n",
    "print(\"Array 1:\", arr1.shape, arr1.size, arr1.dtype)\n",
    "print(\"Array 2:\", arr2.shape, arr2.size, arr2.dtype)\n",
    "print(\"Array 3:\", arr3.shape, arr3.size, arr3.dtype)"
   ]
  },
  {
   "cell_type": "markdown",
   "id": "7c54b25a",
   "metadata": {},
   "source": [
    "### 🔹 File: `task2_indexing_slicing.py`"
   ]
  },
  {
   "cell_type": "code",
   "execution_count": 4,
   "id": "dcf4d43b",
   "metadata": {},
   "outputs": [
    {
     "name": "stdout",
     "output_type": "stream",
     "text": [
      "First three elements: [10 20 30]\n",
      "Every alternate element: [10 30 50 70 90]\n",
      "Reversed array: [90 80 70 60 50 40 30 20 10]\n"
     ]
    }
   ],
   "source": [
    "import numpy as np\n",
    "\n",
    "data = np.array([10, 20, 30, 40, 50, 60, 70, 80, 90])\n",
    "\n",
    "print(\"First three elements:\", data[:3])\n",
    "print(\"Every alternate element:\", data[::2])\n",
    "print(\"Reversed array:\", data[::-1])"
   ]
  },
  {
   "cell_type": "markdown",
   "id": "0d9db019",
   "metadata": {},
   "source": [
    "### 🔹 File: `task3_math_operations.py`"
   ]
  },
  {
   "cell_type": "code",
   "execution_count": 5,
   "id": "9fe9a2f4",
   "metadata": {},
   "outputs": [
    {
     "name": "stdout",
     "output_type": "stream",
     "text": [
      "A: [ 8 20 10 19 12]\n",
      "B: [16  5  7  5  9]\n",
      "Addition: [24 25 17 24 21]\n",
      "Subtraction: [-8 15  3 14  3]\n",
      "Multiplication: [128 100  70  95 108]\n",
      "Division: [0.5        4.         1.42857143 3.8        1.33333333]\n",
      "Dot product: 501\n",
      "Mean of A: 13.8\n",
      "Median of A: 12.0\n",
      "Std of A: 4.833218389437829\n",
      "Variance of A: 23.360000000000003\n",
      "Max of B: 16 at index 0\n",
      "Min of B: 5 at index 1\n"
     ]
    }
   ],
   "source": [
    "import numpy as np\n",
    "\n",
    "A = np.random.randint(1, 21, 5)\n",
    "B = np.random.randint(1, 21, 5)\n",
    "\n",
    "print(\"A:\", A)\n",
    "print(\"B:\", B)\n",
    "print(\"Addition:\", A + B)\n",
    "print(\"Subtraction:\", A - B)\n",
    "print(\"Multiplication:\", A * B)\n",
    "print(\"Division:\", A / B)\n",
    "print(\"Dot product:\", np.dot(A, B))\n",
    "print(\"Mean of A:\", np.mean(A))\n",
    "print(\"Median of A:\", np.median(A))\n",
    "print(\"Std of A:\", np.std(A))\n",
    "print(\"Variance of A:\", np.var(A))\n",
    "print(\"Max of B:\", np.max(B), \"at index\", np.argmax(B))\n",
    "print(\"Min of B:\", np.min(B), \"at index\", np.argmin(B))"
   ]
  },
  {
   "cell_type": "markdown",
   "id": "8a92039f",
   "metadata": {},
   "source": [
    "### 🔹 File: `task4_reshape_transpose.py`"
   ]
  },
  {
   "cell_type": "code",
   "execution_count": 6,
   "id": "e07ea81f",
   "metadata": {},
   "outputs": [
    {
     "name": "stdout",
     "output_type": "stream",
     "text": [
      "2D Reshape: [[ 1  2  3]\n",
      " [ 4  5  6]\n",
      " [ 7  8  9]\n",
      " [10 11 12]]\n",
      "3D Reshape: [[[ 1  2  3]\n",
      "  [ 4  5  6]]\n",
      "\n",
      " [[ 7  8  9]\n",
      "  [10 11 12]]]\n",
      "Transposed: [[ 1  4  7 10]\n",
      " [ 2  5  8 11]\n",
      " [ 3  6  9 12]] Shape: (3, 4)\n"
     ]
    }
   ],
   "source": [
    "import numpy as np\n",
    "\n",
    "arr = np.arange(1, 13)\n",
    "reshaped_2d = arr.reshape(4, 3)\n",
    "reshaped_3d = arr.reshape(2, 2, 3)\n",
    "transposed = reshaped_2d.T\n",
    "\n",
    "print(\"2D Reshape:\", reshaped_2d)\n",
    "print(\"3D Reshape:\", reshaped_3d)\n",
    "print(\"Transposed:\", transposed, \"Shape:\", transposed.shape)"
   ]
  },
  {
   "cell_type": "markdown",
   "id": "c372c353",
   "metadata": {},
   "source": [
    "### 🔹 File: `task5_boolean_masking.py`"
   ]
  },
  {
   "cell_type": "code",
   "execution_count": 7,
   "id": "84ed24b8",
   "metadata": {},
   "outputs": [
    {
     "name": "stdout",
     "output_type": "stream",
     "text": [
      "Original: [41 39 33 49 21 41 38 27 46 39 11 46 19 20 34]\n",
      "Greater than 25: [41 39 33 49 41 38 27 46 39 46 34]\n",
      "After replacing <30 with 0: [41 39 33 49  0 41 38  0 46 39  0 46  0  0 34]\n",
      "Divisible by 5 count: 5\n"
     ]
    }
   ],
   "source": [
    "import numpy as np\n",
    "\n",
    "arr = np.random.randint(10, 51, 15)\n",
    "\n",
    "print(\"Original:\", arr)\n",
    "print(\"Greater than 25:\", arr[arr > 25])\n",
    "arr[arr < 30] = 0\n",
    "print(\"After replacing <30 with 0:\", arr)\n",
    "print(\"Divisible by 5 count:\", np.sum(arr % 5 == 0))"
   ]
  },
  {
   "cell_type": "markdown",
   "id": "2c5c10d4",
   "metadata": {},
   "source": [
    "### 🔹 File: `task6_built_in_functions.py`"
   ]
  },
  {
   "cell_type": "code",
   "execution_count": 8,
   "id": "83f30251",
   "metadata": {},
   "outputs": [
    {
     "name": "stdout",
     "output_type": "stream",
     "text": [
      "Equally spaced: [0.         0.11111111 0.22222222 0.33333333 0.44444444 0.55555556\n",
      " 0.66666667 0.77777778 0.88888889 1.        ]\n",
      "Identity matrix: [[1. 0. 0. 0.]\n",
      " [0. 1. 0. 0.]\n",
      " [0. 0. 1. 0.]\n",
      " [0. 0. 0. 1.]]\n",
      "Sorted array: [ 4  5  7 20 21 39 41 42 47 49 50 55 56 57 64 64 66 80 82 94]\n",
      "5 largest: [64 66 80 82 94]\n"
     ]
    }
   ],
   "source": [
    "import numpy as np\n",
    "\n",
    "equally_spaced = np.linspace(0, 1, 10)\n",
    "identity = np.eye(4)\n",
    "rand_arr = np.random.randint(1, 101, 20)\n",
    "sorted_arr = np.sort(rand_arr)\n",
    "largest_5 = sorted_arr[-5:]\n",
    "\n",
    "print(\"Equally spaced:\", equally_spaced)\n",
    "print(\"Identity matrix:\", identity)\n",
    "print(\"Sorted array:\", sorted_arr)\n",
    "print(\"5 largest:\", largest_5)"
   ]
  },
  {
   "cell_type": "markdown",
   "id": "235ed5e4",
   "metadata": {},
   "source": [
    "### 🔹 File: `task7_generic.py`"
   ]
  },
  {
   "cell_type": "code",
   "execution_count": 9,
   "id": "f289060b",
   "metadata": {},
   "outputs": [
    {
     "name": "stdout",
     "output_type": "stream",
     "text": [
      "Time taken: 0.0030024051666259766\n",
      "Determinant: 2.2203855297854128e+51\n",
      "Inverse status: Computed\n"
     ]
    }
   ],
   "source": [
    "import numpy as np\n",
    "import time\n",
    "\n",
    "A = np.random.rand(100, 100)\n",
    "B = np.random.rand(100, 100)\n",
    "\n",
    "start = time.time()\n",
    "C = np.dot(A, B)\n",
    "end = time.time()\n",
    "\n",
    "try:\n",
    "    det = np.linalg.det(C)\n",
    "    inv = np.linalg.inv(C)\n",
    "except np.linalg.LinAlgError:\n",
    "    det = \"Not computable\"\n",
    "    inv = \"Not invertible\"\n",
    "\n",
    "print(\"Time taken:\", end - start)\n",
    "print(\"Determinant:\", det)\n",
    "print(\"Inverse status:\", \"Computed\" if isinstance(inv, np.ndarray) else inv)"
   ]
  }
 ],
 "metadata": {
  "kernelspec": {
   "display_name": "Python 3",
   "language": "python",
   "name": "python3"
  },
  "language_info": {
   "codemirror_mode": {
    "name": "ipython",
    "version": 3
   },
   "file_extension": ".py",
   "mimetype": "text/x-python",
   "name": "python",
   "nbconvert_exporter": "python",
   "pygments_lexer": "ipython3",
   "version": "3.10.11"
  }
 },
 "nbformat": 4,
 "nbformat_minor": 5
}
