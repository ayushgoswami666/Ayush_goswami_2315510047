{
 "cells": [
  {
   "cell_type": "markdown",
   "id": "9fd35684",
   "metadata": {},
   "source": [
    "### 🔹 File: `task1_series.py`"
   ]
  },
  {
   "cell_type": "code",
   "execution_count": 2,
   "id": "919ad1ec",
   "metadata": {},
   "outputs": [
    {
     "name": "stdout",
     "output_type": "stream",
     "text": [
      "First 3 elements: A    25\n",
      "B    30\n",
      "C    35\n",
      "dtype: int64\n",
      "Mean: 35.0\n",
      "Median: 35.0\n",
      "Std: 7.905694150420948\n"
     ]
    }
   ],
   "source": [
    "import pandas as pd\n",
    "\n",
    "data = [25, 30, 35, 40, 45]\n",
    "series = pd.Series(data, index=['A', 'B', 'C', 'D', 'E'])\n",
    "\n",
    "print(\"First 3 elements:\", series.head(3))\n",
    "print(\"Mean:\", series.mean())\n",
    "print(\"Median:\", series.median())\n",
    "print(\"Std:\", series.std())"
   ]
  },
  {
   "cell_type": "markdown",
   "id": "76a5ee12",
   "metadata": {},
   "source": [
    "### 🔹 File: `task2_dataframe.py`"
   ]
  },
  {
   "cell_type": "code",
   "execution_count": 3,
   "id": "3d919a9c",
   "metadata": {},
   "outputs": [
    {
     "name": "stdout",
     "output_type": "stream",
     "text": [
      "First 2 rows:     Name  Age  Gender  Marks\n",
      "0  Alice   20  Female     85\n",
      "1    Bob   22    Male     78\n",
      "Columns: Index(['Name', 'Age', 'Gender', 'Marks'], dtype='object')\n",
      "Data types: Name      object\n",
      "Age        int64\n",
      "Gender    object\n",
      "Marks      int64\n",
      "dtype: object\n",
      "Summary:              Age      Marks\n",
      "count   5.000000   5.000000\n",
      "mean   20.400000  83.400000\n",
      "std     1.140175   7.334848\n",
      "min    19.000000  74.000000\n",
      "25%    20.000000  78.000000\n",
      "50%    20.000000  85.000000\n",
      "75%    21.000000  88.000000\n",
      "max    22.000000  92.000000\n",
      "With Passed column:     Name  Age  Gender  Marks  Passed\n",
      "0  Alice   20  Female     85    True\n",
      "1    Bob   22    Male     78   False\n",
      "2  Carol   19  Female     92    True\n",
      "3  David   21    Male     74   False\n",
      "4    Eve   20  Female     88    True\n"
     ]
    }
   ],
   "source": [
    "import pandas as pd\n",
    "\n",
    "df = pd.DataFrame({\n",
    "    'Name': ['Alice', 'Bob', 'Carol', 'David', 'Eve'],\n",
    "    'Age': [20, 22, 19, 21, 20],\n",
    "    'Gender': ['Female', 'Male', 'Female', 'Male', 'Female'],\n",
    "    'Marks': [85, 78, 92, 74, 88]\n",
    "})\n",
    "\n",
    "print(\"First 2 rows:\", df.head(2))\n",
    "print(\"Columns:\", df.columns)\n",
    "print(\"Data types:\", df.dtypes)\n",
    "print(\"Summary:\", df.describe())\n",
    "\n",
    "df['Passed'] = df['Marks'] >= 80\n",
    "print(\"With Passed column:\", df)"
   ]
  },
  {
   "cell_type": "markdown",
   "id": "4d8178fa",
   "metadata": {},
   "source": [
    "### 🔹 File: `task3_filtering.py`"
   ]
  },
  {
   "cell_type": "code",
   "execution_count": 4,
   "id": "5233dd47",
   "metadata": {},
   "outputs": [
    {
     "name": "stdout",
     "output_type": "stream",
     "text": [
      "    Name  Marks\n",
      "0  Alice     85\n",
      "1    Bob     78\n",
      "2  Carol     92\n",
      "3  David     74\n",
      "4    Eve     88\n",
      "Marks > 80:     Name  Age  Gender  Marks\n",
      "0  Alice   20  Female     85\n",
      "2  Carol   19  Female     92\n",
      "4    Eve   20  Female     88\n",
      "Top scorer:     Name  Age  Gender  Marks\n",
      "2  Carol   19  Female     92\n"
     ]
    }
   ],
   "source": [
    "import pandas as pd\n",
    "\n",
    "df = pd.DataFrame({\n",
    "    'Name': ['Alice', 'Bob', 'Carol', 'David', 'Eve'],\n",
    "    'Age': [20, 22, 19, 21, 20],\n",
    "    'Gender': ['Female', 'Male', 'Female', 'Male', 'Female'],\n",
    "    'Marks': [85, 78, 92, 74, 88]\n",
    "})\n",
    "\n",
    "print(df[['Name', 'Marks']])\n",
    "print(\"Marks > 80:\", df[df['Marks'] > 80])\n",
    "print(\"Top scorer:\", df[df['Marks'] == df['Marks'].max()])"
   ]
  },
  {
   "cell_type": "markdown",
   "id": "e7e9ca0d",
   "metadata": {},
   "source": [
    "### 🔹 File: `task4_missing_data.py`"
   ]
  },
  {
   "cell_type": "code",
   "execution_count": 5,
   "id": "35464c23",
   "metadata": {},
   "outputs": [
    {
     "name": "stdout",
     "output_type": "stream",
     "text": [
      "Missing values:     Name    Age  Gender  Marks\n",
      "0  False  False   False  False\n",
      "1  False  False   False   True\n",
      "2  False  False   False  False\n",
      "3  False  False   False  False\n",
      "4  False   True   False  False\n",
      "After filling and dropping:     Name   Age  Gender  Marks\n",
      "0  Alice  20.0  Female  85.00\n",
      "1    Bob  22.0    Male  84.75\n",
      "2  Carol  19.0  Female  92.00\n",
      "3  David  21.0    Male  74.00\n"
     ]
    },
    {
     "name": "stderr",
     "output_type": "stream",
     "text": [
      "C:\\Users\\prvme\\AppData\\Local\\Temp\\ipykernel_24296\\271664350.py:14: FutureWarning: A value is trying to be set on a copy of a DataFrame or Series through chained assignment using an inplace method.\n",
      "The behavior will change in pandas 3.0. This inplace method will never work because the intermediate object on which we are setting values always behaves as a copy.\n",
      "\n",
      "For example, when doing 'df[col].method(value, inplace=True)', try using 'df.method({col: value}, inplace=True)' or df[col] = df[col].method(value) instead, to perform the operation inplace on the original object.\n",
      "\n",
      "\n",
      "  df['Marks'].fillna(df['Marks'].mean(), inplace=True)\n"
     ]
    }
   ],
   "source": [
    "import pandas as pd\n",
    "\n",
    "df = pd.DataFrame({\n",
    "    'Name': ['Alice', 'Bob', 'Carol', 'David', 'Eve'],\n",
    "    'Age': [20, 22, 19, 21, 20],\n",
    "    'Gender': ['Female', 'Male', 'Female', 'Male', 'Female'],\n",
    "    'Marks': [85, 78, 92, 74, 88]\n",
    "})\n",
    "\n",
    "df.loc[1, 'Marks'] = None\n",
    "df.loc[4, 'Age'] = None\n",
    "\n",
    "print(\"Missing values:\", df.isnull())\n",
    "df['Marks'].fillna(df['Marks'].mean(), inplace=True)\n",
    "df.dropna(subset=['Age'], inplace=True)\n",
    "print(\"After filling and dropping:\", df)"
   ]
  },
  {
   "cell_type": "markdown",
   "id": "930b0642",
   "metadata": {},
   "source": [
    "### 🔹 File: `task5_grouping.py`"
   ]
  },
  {
   "cell_type": "code",
   "execution_count": 6,
   "id": "39bd11c3",
   "metadata": {},
   "outputs": [
    {
     "name": "stdout",
     "output_type": "stream",
     "text": [
      "Mean by gender:               Age      Marks\n",
      "Gender                      \n",
      "Female  19.666667  88.333333\n",
      "Male    21.500000  76.000000\n",
      "Count by gender: Gender\n",
      "Female    3\n",
      "Male      2\n",
      "dtype: int64\n"
     ]
    }
   ],
   "source": [
    "import pandas as pd\n",
    "\n",
    "df = pd.DataFrame({\n",
    "    'Name': ['Alice', 'Bob', 'Carol', 'David', 'Eve'],\n",
    "    'Age': [20, 22, 19, 21, 20],\n",
    "    'Gender': ['Female', 'Male', 'Female', 'Male', 'Female'],\n",
    "    'Marks': [85, 78, 92, 74, 88]\n",
    "})\n",
    "\n",
    "grouped = df.groupby('Gender')\n",
    "print(\"Mean by gender:\", grouped[['Age', 'Marks']].mean())\n",
    "print(\"Count by gender:\", grouped.size())"
   ]
  },
  {
   "cell_type": "markdown",
   "id": "52903b6e",
   "metadata": {},
   "source": [
    "### 🔹 File: `task6_csv_io.py`"
   ]
  },
  {
   "cell_type": "code",
   "execution_count": 7,
   "id": "c07cf878",
   "metadata": {},
   "outputs": [
    {
     "name": "stdout",
     "output_type": "stream",
     "text": [
      "Loaded Data:     Name   Age  Gender  Marks\n",
      "0  Alice  20.0  Female  85.00\n",
      "1    Bob  22.0    Male  84.75\n",
      "2  Carol  19.0  Female  92.00\n",
      "3  David  21.0    Male  74.00\n"
     ]
    },
    {
     "name": "stderr",
     "output_type": "stream",
     "text": [
      "C:\\Users\\prvme\\AppData\\Local\\Temp\\ipykernel_24296\\3682899439.py:10: FutureWarning: A value is trying to be set on a copy of a DataFrame or Series through chained assignment using an inplace method.\n",
      "The behavior will change in pandas 3.0. This inplace method will never work because the intermediate object on which we are setting values always behaves as a copy.\n",
      "\n",
      "For example, when doing 'df[col].method(value, inplace=True)', try using 'df.method({col: value}, inplace=True)' or df[col] = df[col].method(value) instead, to perform the operation inplace on the original object.\n",
      "\n",
      "\n",
      "  df['Marks'].fillna(df['Marks'].mean(), inplace=True)\n"
     ]
    }
   ],
   "source": [
    "import pandas as pd\n",
    "\n",
    "df = pd.DataFrame({\n",
    "    'Name': ['Alice', 'Bob', 'Carol', 'David', 'Eve'],\n",
    "    'Age': [20, 22, 19, 21, None],\n",
    "    'Gender': ['Female', 'Male', 'Female', 'Male', 'Female'],\n",
    "    'Marks': [85, None, 92, 74, 88]\n",
    "})\n",
    "\n",
    "df['Marks'].fillna(df['Marks'].mean(), inplace=True)\n",
    "df.dropna(subset=['Age'], inplace=True)\n",
    "df.to_csv('students_data.csv', index=False)\n",
    "\n",
    "df_new = pd.read_csv('students_data.csv')\n",
    "print(\"Loaded Data:\", df_new.head())"
   ]
  },
  {
   "cell_type": "markdown",
   "id": "6fadf435",
   "metadata": {},
   "source": [
    "### 🔹 File: `task7_general_eda.py`"
   ]
  },
  {
   "cell_type": "code",
   "execution_count": 8,
   "id": "9704fc4c",
   "metadata": {},
   "outputs": [
    {
     "name": "stdout",
     "output_type": "stream",
     "text": [
      "Summary:          survived      pclass         age       sibsp       parch        fare\n",
      "count  891.000000  891.000000  714.000000  891.000000  891.000000  891.000000\n",
      "mean     0.383838    2.308642   29.699118    0.523008    0.381594   32.204208\n",
      "std      0.486592    0.836071   14.526497    1.102743    0.806057   49.693429\n",
      "min      0.000000    1.000000    0.420000    0.000000    0.000000    0.000000\n",
      "25%      0.000000    2.000000   20.125000    0.000000    0.000000    7.910400\n",
      "50%      0.000000    3.000000   28.000000    0.000000    0.000000   14.454200\n",
      "75%      1.000000    3.000000   38.000000    1.000000    0.000000   31.000000\n",
      "max      1.000000    3.000000   80.000000    8.000000    6.000000  512.329200\n",
      "Missing values: survived         0\n",
      "pclass           0\n",
      "sex              0\n",
      "age            177\n",
      "sibsp            0\n",
      "parch            0\n",
      "fare             0\n",
      "embarked         2\n",
      "class            0\n",
      "who              0\n",
      "adult_male       0\n",
      "deck           688\n",
      "embark_town      2\n",
      "alive            0\n",
      "alone            0\n",
      "dtype: int64\n"
     ]
    },
    {
     "data": {
      "image/png": "[encoded data removed]",
      "text/plain": [
       "<Figure size 640x480 with 1 Axes>"
      ]
     },
     "metadata": {},
     "output_type": "display_data"
    },
    {
     "data": {
      "image/png": "[encoded data removed]",
      "text/plain": [
       "<Figure size 640x480 with 1 Axes>"
      ]
     },
     "metadata": {},
     "output_type": "display_data"
    }
   ],
   "source": [
    "import pandas as pd\n",
    "import seaborn as sns\n",
    "import matplotlib.pyplot as plt\n",
    "\n",
    "# Sample dataset from seaborn\n",
    "df = sns.load_dataset('titanic')\n",
    "\n",
    "print(\"Summary:\", df.describe())\n",
    "print(\"Missing values:\", df.isnull().sum())\n",
    "\n",
    "sns.histplot(df['age'].dropna(), kde=True)\n",
    "plt.title('Age Distribution')\n",
    "plt.show()\n",
    "\n",
    "sns.countplot(x='class', data=df)\n",
    "plt.title('Passenger Class Distribution')\n",
    "plt.show()"
   ]
  }
 ],
 "metadata": {
  "kernelspec": {
   "display_name": "Python 3",
   "language": "python",
   "name": "python3"
  },
  "language_info": {
   "codemirror_mode": {
    "name": "ipython",
    "version": 3
   },
   "file_extension": ".py",
   "mimetype": "text/x-python",
   "name": "python",
   "nbconvert_exporter": "python",
   "pygments_lexer": "ipython3",
   "version": "3.10.11"
  }
 },
 "nbformat": 4,
 "nbformat_minor": 5
}
