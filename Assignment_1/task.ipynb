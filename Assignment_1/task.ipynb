{
 "cells": [
  {
   "cell_type": "code",
   "execution_count": 1,
   "id": "e7fda086-a7d1-4979-ab28-d14986b192dd",
   "metadata": {},
   "outputs": [
    {
     "name": "stdout",
     "output_type": "stream",
     "text": [
      "Matrix written to matrix.csv\n",
      "Matrix read from CSV:\n",
      "[1, 2, 3]\n",
      "[4, 5, 6]\n",
      "[7, 8, 9]\n"
     ]
    }
   ],
   "source": [
    "import csv\n",
    "\n",
    "class InvalidMatrixError(Exception):\n",
    "    def __init__(self, message=\"Matrix must be 2D and rectangular\"):\n",
    "        super().__init__(message)\n",
    "\n",
    "matrix = [\n",
    "    [1, 2, 3],\n",
    "    [4, 5, 6],\n",
    "    [7, 8, 9]\n",
    "]\n",
    "\n",
    "def write_matrix_to_csv(matrix, filename):\n",
    "    row_length = len(matrix[0])\n",
    "    for row in matrix:\n",
    "        if len(row) != row_length:\n",
    "            raise InvalidMatrixError(\"All rows must have the same number of columns.\")\n",
    "    \n",
    "    with open(filename, 'w', newline='') as f:\n",
    "        writer = csv.writer(f)\n",
    "        writer.writerows(matrix)\n",
    "    print(f\"Matrix written to {filename}\")\n",
    "\n",
    "def read_matrix_from_csv(filename):\n",
    "    with open(filename, 'r') as f:\n",
    "        reader = csv.reader(f)\n",
    "        matrix = [list(map(int, row)) for row in reader]\n",
    "    return matrix\n",
    "\n",
    "filename = \"matrix.csv\"\n",
    "\n",
    "try:\n",
    "    write_matrix_to_csv(matrix, filename)\n",
    "    new_matrix = read_matrix_from_csv(filename)\n",
    "    print(\"Matrix read from CSV:\")\n",
    "    for row in new_matrix:\n",
    "        print(row)\n",
    "\n",
    "except InvalidMatrixError as e:\n",
    "    print(\"Matrix error:\", e)\n",
    "except Exception as e:\n",
    "    print(\"General error:\", e)\n"
   ]
  },
  {
   "cell_type": "code",
   "execution_count": null,
   "id": "6a48539a-e9f0-4c01-94e0-42a8847360e5",
   "metadata": {},
   "outputs": [],
   "source": []
  }
 ],
 "metadata": {
  "kernelspec": {
   "display_name": "Python 3",
   "language": "python",
   "name": "python3"
  },
  "language_info": {
   "codemirror_mode": {
    "name": "ipython",
    "version": 3
   },
   "file_extension": ".py",
   "mimetype": "text/x-python",
   "name": "python",
   "nbconvert_exporter": "python",
   "pygments_lexer": "ipython3",
   "version": "3.10.11"
  }
 },
 "nbformat": 4,
 "nbformat_minor": 5
}
